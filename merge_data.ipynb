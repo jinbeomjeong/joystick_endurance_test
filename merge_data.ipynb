{
 "cells": [
  {
   "cell_type": "code",
   "id": "initial_id",
   "metadata": {
    "collapsed": true,
    "ExecuteTime": {
     "end_time": "2024-04-26T09:06:23.558541Z",
     "start_time": "2024-04-26T09:06:23.245209Z"
    }
   },
   "source": [
    "import os\n",
    "import numpy as np\n",
    "import pandas as pd\n",
    "from concurrent.futures import ThreadPoolExecutor\n"
   ],
   "outputs": [],
   "execution_count": 1
  },
  {
   "metadata": {
    "ExecuteTime": {
     "end_time": "2024-04-26T09:06:23.574054Z",
     "start_time": "2024-04-26T09:06:23.560542Z"
    }
   },
   "cell_type": "code",
   "source": [
    "data_root_path = \"d:\\\\joystick\"\n",
    "sample_names = ['RAW DATA 1']"
   ],
   "id": "3c12fd36133c2690",
   "outputs": [],
   "execution_count": 2
  },
  {
   "metadata": {
    "ExecuteTime": {
     "end_time": "2024-04-26T09:06:23.604054Z",
     "start_time": "2024-04-26T09:06:23.575055Z"
    }
   },
   "cell_type": "code",
   "source": [
    "file_path_list = list()\n",
    "\n",
    "for sample_name in sample_names:\n",
    "    for file in os.listdir(os.path.join(data_root_path, sample_name , 'Durability')):\n",
    "        if file.endswith('.CSV'):\n",
    "            file_path_list.append(os.path.join(data_root_path, sample_name, 'Durability', file))\n",
    "\n",
    "file_path_list.sort()"
   ],
   "id": "cf7ebaedf077d513",
   "outputs": [],
   "execution_count": 3
  },
  {
   "metadata": {
    "ExecuteTime": {
     "end_time": "2024-04-26T09:06:23.619061Z",
     "start_time": "2024-04-26T09:06:23.606056Z"
    }
   },
   "cell_type": "code",
   "source": "file_path_list[0:3]",
   "id": "ed278210275a6f78",
   "outputs": [
    {
     "data": {
      "text/plain": [
       "['d:\\\\joystick\\\\RAW DATA 1\\\\Durability\\\\SN0001_2024-02-07 12-01_(1)_STOP.CSV',\n",
       " 'd:\\\\joystick\\\\RAW DATA 1\\\\Durability\\\\SN0001_2024-02-07 12-21_(1170)_STOP.CSV',\n",
       " 'd:\\\\joystick\\\\RAW DATA 1\\\\Durability\\\\SN0001_2024-02-07 12-42_(2333)_STOP.CSV']"
      ]
     },
     "execution_count": 4,
     "metadata": {},
     "output_type": "execute_result"
    }
   ],
   "execution_count": 4
  },
  {
   "metadata": {
    "ExecuteTime": {
     "end_time": "2024-04-26T09:06:23.634604Z",
     "start_time": "2024-04-26T09:06:23.622062Z"
    }
   },
   "cell_type": "code",
   "source": "data_column_names = ['port_1_p(bar)', 'port_2_p(bar)', 'port_3_p(bar)', 'port_4_p(bar)', 'support_p(bar)', 'tank_p(bar)', 'temp(c)']",
   "id": "22860b1d34709edf",
   "outputs": [],
   "execution_count": 5
  },
  {
   "metadata": {
    "ExecuteTime": {
     "end_time": "2024-04-26T09:06:23.650118Z",
     "start_time": "2024-04-26T09:06:23.636604Z"
    }
   },
   "cell_type": "code",
   "source": [
    "def load_csv(path_list):\n",
    "    data = pd.read_csv(path_list, encoding='cp949').iloc[9:] \n",
    "    data.columns = data_column_names\n",
    "    \n",
    "    return data"
   ],
   "id": "a5ba4e3854c3daf3",
   "outputs": [],
   "execution_count": 6
  },
  {
   "metadata": {
    "ExecuteTime": {
     "end_time": "2024-04-26T09:06:23.756688Z",
     "start_time": "2024-04-26T09:06:23.651119Z"
    }
   },
   "cell_type": "code",
   "source": [
    "# Executor를 사용한 병렬 처리\n",
    "with ThreadPoolExecutor() as executor:\n",
    "    results = list(executor.map(load_csv, file_path_list[0:1]))\n",
    "\n",
    "# 결과 병합\n",
    "result_df = pd.concat(results)"
   ],
   "id": "7ccb115311f52572",
   "outputs": [],
   "execution_count": 7
  },
  {
   "metadata": {
    "ExecuteTime": {
     "end_time": "2024-04-26T09:06:23.771688Z",
     "start_time": "2024-04-26T09:06:23.757689Z"
    }
   },
   "cell_type": "code",
   "source": [
    "result_df['time(hour)'] = np.arange(result_df.shape[0])/(100*3600)\n",
    "result_df.reset_index(inplace=True, drop=True)"
   ],
   "id": "39117a6ce50b9bad",
   "outputs": [],
   "execution_count": 8
  },
  {
   "metadata": {
    "ExecuteTime": {
     "end_time": "2024-04-26T09:06:29.631894Z",
     "start_time": "2024-04-26T09:06:29.602382Z"
    }
   },
   "cell_type": "code",
   "source": "result_df.info()",
   "id": "7b29c77bd4ef9d26",
   "outputs": [
    {
     "name": "stdout",
     "output_type": "stream",
     "text": [
      "<class 'pandas.core.frame.DataFrame'>\n",
      "RangeIndex: 120000 entries, 0 to 119999\n",
      "Data columns (total 8 columns):\n",
      " #   Column          Non-Null Count   Dtype  \n",
      "---  ------          --------------   -----  \n",
      " 0   port_1_p(bar)   120000 non-null  object \n",
      " 1   port_2_p(bar)   120000 non-null  object \n",
      " 2   port_3_p(bar)   120000 non-null  object \n",
      " 3   port_4_p(bar)   120000 non-null  object \n",
      " 4   support_p(bar)  120000 non-null  object \n",
      " 5   tank_p(bar)     120000 non-null  object \n",
      " 6   temp(c)         120000 non-null  object \n",
      " 7   time(hour)      120000 non-null  float64\n",
      "dtypes: float64(1), object(7)\n",
      "memory usage: 7.3+ MB\n"
     ]
    }
   ],
   "execution_count": 9
  },
  {
   "metadata": {
    "ExecuteTime": {
     "end_time": "2024-04-26T09:06:31.822872Z",
     "start_time": "2024-04-26T09:06:31.809872Z"
    }
   },
   "cell_type": "code",
   "source": "result_df.head()",
   "id": "cd24fa0cf341a63e",
   "outputs": [
    {
     "data": {
      "text/plain": [
       "  port_1_p(bar) port_2_p(bar) port_3_p(bar) port_4_p(bar) support_p(bar)  \\\n",
       "0          0.55         12.29         12.42          0.53          12.37   \n",
       "1          0.55         12.32         12.45          0.55          12.37   \n",
       "2          0.54         12.31         12.43          0.54          12.35   \n",
       "3          0.58         12.32         12.43          0.54          12.38   \n",
       "4          0.55         12.30         12.43          0.54          12.36   \n",
       "\n",
       "  tank_p(bar) temp(c)  time(hour)  \n",
       "0        0.53   48.00    0.000000  \n",
       "1        0.54   48.00    0.000003  \n",
       "2        0.54   48.00    0.000006  \n",
       "3        0.55   48.00    0.000008  \n",
       "4        0.55   48.00    0.000011  "
      ],
      "text/html": [
       "<div>\n",
       "<style scoped>\n",
       "    .dataframe tbody tr th:only-of-type {\n",
       "        vertical-align: middle;\n",
       "    }\n",
       "\n",
       "    .dataframe tbody tr th {\n",
       "        vertical-align: top;\n",
       "    }\n",
       "\n",
       "    .dataframe thead th {\n",
       "        text-align: right;\n",
       "    }\n",
       "</style>\n",
       "<table border=\"1\" class=\"dataframe\">\n",
       "  <thead>\n",
       "    <tr style=\"text-align: right;\">\n",
       "      <th></th>\n",
       "      <th>port_1_p(bar)</th>\n",
       "      <th>port_2_p(bar)</th>\n",
       "      <th>port_3_p(bar)</th>\n",
       "      <th>port_4_p(bar)</th>\n",
       "      <th>support_p(bar)</th>\n",
       "      <th>tank_p(bar)</th>\n",
       "      <th>temp(c)</th>\n",
       "      <th>time(hour)</th>\n",
       "    </tr>\n",
       "  </thead>\n",
       "  <tbody>\n",
       "    <tr>\n",
       "      <th>0</th>\n",
       "      <td>0.55</td>\n",
       "      <td>12.29</td>\n",
       "      <td>12.42</td>\n",
       "      <td>0.53</td>\n",
       "      <td>12.37</td>\n",
       "      <td>0.53</td>\n",
       "      <td>48.00</td>\n",
       "      <td>0.000000</td>\n",
       "    </tr>\n",
       "    <tr>\n",
       "      <th>1</th>\n",
       "      <td>0.55</td>\n",
       "      <td>12.32</td>\n",
       "      <td>12.45</td>\n",
       "      <td>0.55</td>\n",
       "      <td>12.37</td>\n",
       "      <td>0.54</td>\n",
       "      <td>48.00</td>\n",
       "      <td>0.000003</td>\n",
       "    </tr>\n",
       "    <tr>\n",
       "      <th>2</th>\n",
       "      <td>0.54</td>\n",
       "      <td>12.31</td>\n",
       "      <td>12.43</td>\n",
       "      <td>0.54</td>\n",
       "      <td>12.35</td>\n",
       "      <td>0.54</td>\n",
       "      <td>48.00</td>\n",
       "      <td>0.000006</td>\n",
       "    </tr>\n",
       "    <tr>\n",
       "      <th>3</th>\n",
       "      <td>0.58</td>\n",
       "      <td>12.32</td>\n",
       "      <td>12.43</td>\n",
       "      <td>0.54</td>\n",
       "      <td>12.38</td>\n",
       "      <td>0.55</td>\n",
       "      <td>48.00</td>\n",
       "      <td>0.000008</td>\n",
       "    </tr>\n",
       "    <tr>\n",
       "      <th>4</th>\n",
       "      <td>0.55</td>\n",
       "      <td>12.30</td>\n",
       "      <td>12.43</td>\n",
       "      <td>0.54</td>\n",
       "      <td>12.36</td>\n",
       "      <td>0.55</td>\n",
       "      <td>48.00</td>\n",
       "      <td>0.000011</td>\n",
       "    </tr>\n",
       "  </tbody>\n",
       "</table>\n",
       "</div>"
      ]
     },
     "execution_count": 10,
     "metadata": {},
     "output_type": "execute_result"
    }
   ],
   "execution_count": 10
  },
  {
   "metadata": {
    "ExecuteTime": {
     "end_time": "2024-04-26T08:35:19.818439Z",
     "start_time": "2024-04-26T08:35:19.803434Z"
    }
   },
   "cell_type": "code",
   "source": [
    "float32_target_var = ['port_1_p(bar)', 'port_2_p(bar)', 'port_3_p(bar)', 'port_4_p(bar)','support_p(bar)', 'tank_p(bar)', 'time(hour)']\n",
    "uint8_target_var = ['temp(c)']"
   ],
   "id": "b713ac3a3fd89809",
   "outputs": [],
   "execution_count": 43
  },
  {
   "metadata": {
    "ExecuteTime": {
     "end_time": "2024-04-26T08:35:21.994527Z",
     "start_time": "2024-04-26T08:35:21.860016Z"
    }
   },
   "cell_type": "code",
   "source": [
    "for var in float32_target_var:\n",
    "    result_df[var] = result_df[var].astype(np.float32)\n",
    "\n",
    "for var in uint8_target_var:\n",
    "    result_df[var] = result_df[var].astype(np.float64).astype(np.uint8)    "
   ],
   "id": "6001a1d4989272fc",
   "outputs": [],
   "execution_count": 44
  },
  {
   "metadata": {
    "ExecuteTime": {
     "end_time": "2024-04-26T08:35:35.545094Z",
     "start_time": "2024-04-26T08:35:35.531092Z"
    }
   },
   "cell_type": "code",
   "source": "result_df.info()",
   "id": "8ec842c0aad414bc",
   "outputs": [
    {
     "name": "stdout",
     "output_type": "stream",
     "text": [
      "<class 'pandas.core.frame.DataFrame'>\n",
      "RangeIndex: 120000 entries, 0 to 119999\n",
      "Data columns (total 8 columns):\n",
      " #   Column          Non-Null Count   Dtype  \n",
      "---  ------          --------------   -----  \n",
      " 0   port_1_p(bar)   120000 non-null  float32\n",
      " 1   port_2_p(bar)   120000 non-null  float32\n",
      " 2   port_3_p(bar)   120000 non-null  float32\n",
      " 3   port_4_p(bar)   120000 non-null  float32\n",
      " 4   support_p(bar)  120000 non-null  float32\n",
      " 5   tank_p(bar)     120000 non-null  float32\n",
      " 6   temp(c)         120000 non-null  uint8  \n",
      " 7   time(hour)      120000 non-null  float32\n",
      "dtypes: float32(7), uint8(1)\n",
      "memory usage: 3.3 MB\n"
     ]
    }
   ],
   "execution_count": 45
  },
  {
   "metadata": {
    "ExecuteTime": {
     "end_time": "2024-04-26T09:06:56.835629Z",
     "start_time": "2024-04-26T09:06:56.821627Z"
    }
   },
   "cell_type": "code",
   "source": "result_df.head()",
   "id": "d00fa0f1efc4d587",
   "outputs": [
    {
     "data": {
      "text/plain": [
       "  port_1_p(bar) port_2_p(bar) port_3_p(bar) port_4_p(bar) support_p(bar)  \\\n",
       "0          0.55         12.29         12.42          0.53          12.37   \n",
       "1          0.55         12.32         12.45          0.55          12.37   \n",
       "2          0.54         12.31         12.43          0.54          12.35   \n",
       "3          0.58         12.32         12.43          0.54          12.38   \n",
       "4          0.55         12.30         12.43          0.54          12.36   \n",
       "\n",
       "  tank_p(bar) temp(c)  time(hour)  \n",
       "0        0.53   48.00    0.000000  \n",
       "1        0.54   48.00    0.000003  \n",
       "2        0.54   48.00    0.000006  \n",
       "3        0.55   48.00    0.000008  \n",
       "4        0.55   48.00    0.000011  "
      ],
      "text/html": [
       "<div>\n",
       "<style scoped>\n",
       "    .dataframe tbody tr th:only-of-type {\n",
       "        vertical-align: middle;\n",
       "    }\n",
       "\n",
       "    .dataframe tbody tr th {\n",
       "        vertical-align: top;\n",
       "    }\n",
       "\n",
       "    .dataframe thead th {\n",
       "        text-align: right;\n",
       "    }\n",
       "</style>\n",
       "<table border=\"1\" class=\"dataframe\">\n",
       "  <thead>\n",
       "    <tr style=\"text-align: right;\">\n",
       "      <th></th>\n",
       "      <th>port_1_p(bar)</th>\n",
       "      <th>port_2_p(bar)</th>\n",
       "      <th>port_3_p(bar)</th>\n",
       "      <th>port_4_p(bar)</th>\n",
       "      <th>support_p(bar)</th>\n",
       "      <th>tank_p(bar)</th>\n",
       "      <th>temp(c)</th>\n",
       "      <th>time(hour)</th>\n",
       "    </tr>\n",
       "  </thead>\n",
       "  <tbody>\n",
       "    <tr>\n",
       "      <th>0</th>\n",
       "      <td>0.55</td>\n",
       "      <td>12.29</td>\n",
       "      <td>12.42</td>\n",
       "      <td>0.53</td>\n",
       "      <td>12.37</td>\n",
       "      <td>0.53</td>\n",
       "      <td>48.00</td>\n",
       "      <td>0.000000</td>\n",
       "    </tr>\n",
       "    <tr>\n",
       "      <th>1</th>\n",
       "      <td>0.55</td>\n",
       "      <td>12.32</td>\n",
       "      <td>12.45</td>\n",
       "      <td>0.55</td>\n",
       "      <td>12.37</td>\n",
       "      <td>0.54</td>\n",
       "      <td>48.00</td>\n",
       "      <td>0.000003</td>\n",
       "    </tr>\n",
       "    <tr>\n",
       "      <th>2</th>\n",
       "      <td>0.54</td>\n",
       "      <td>12.31</td>\n",
       "      <td>12.43</td>\n",
       "      <td>0.54</td>\n",
       "      <td>12.35</td>\n",
       "      <td>0.54</td>\n",
       "      <td>48.00</td>\n",
       "      <td>0.000006</td>\n",
       "    </tr>\n",
       "    <tr>\n",
       "      <th>3</th>\n",
       "      <td>0.58</td>\n",
       "      <td>12.32</td>\n",
       "      <td>12.43</td>\n",
       "      <td>0.54</td>\n",
       "      <td>12.38</td>\n",
       "      <td>0.55</td>\n",
       "      <td>48.00</td>\n",
       "      <td>0.000008</td>\n",
       "    </tr>\n",
       "    <tr>\n",
       "      <th>4</th>\n",
       "      <td>0.55</td>\n",
       "      <td>12.30</td>\n",
       "      <td>12.43</td>\n",
       "      <td>0.54</td>\n",
       "      <td>12.36</td>\n",
       "      <td>0.55</td>\n",
       "      <td>48.00</td>\n",
       "      <td>0.000011</td>\n",
       "    </tr>\n",
       "  </tbody>\n",
       "</table>\n",
       "</div>"
      ]
     },
     "execution_count": 11,
     "metadata": {},
     "output_type": "execute_result"
    }
   ],
   "execution_count": 11
  },
  {
   "metadata": {
    "ExecuteTime": {
     "end_time": "2024-04-26T09:07:17.713505Z",
     "start_time": "2024-04-26T09:07:17.692504Z"
    }
   },
   "cell_type": "code",
   "source": "result_df.tail()",
   "id": "c6e475108e8c798a",
   "outputs": [
    {
     "data": {
      "text/plain": [
       "       port_1_p(bar) port_2_p(bar) port_3_p(bar) port_4_p(bar) support_p(bar)  \\\n",
       "119995         13.04          0.61          0.79         20.17          39.56   \n",
       "119996         11.99          0.57          0.74         20.50          39.56   \n",
       "119997         10.89          0.55          0.77         20.71          39.18   \n",
       "119998          9.86          0.62          0.82         20.94          39.10   \n",
       "119999          8.73          0.67          0.83         21.48          39.26   \n",
       "\n",
       "       tank_p(bar) temp(c)  time(hour)  \n",
       "119995        0.66   48.00    0.333319  \n",
       "119996        0.63   48.00    0.333322  \n",
       "119997        0.65   48.00    0.333325  \n",
       "119998        0.71   48.00    0.333328  \n",
       "119999        0.72   48.00    0.333331  "
      ],
      "text/html": [
       "<div>\n",
       "<style scoped>\n",
       "    .dataframe tbody tr th:only-of-type {\n",
       "        vertical-align: middle;\n",
       "    }\n",
       "\n",
       "    .dataframe tbody tr th {\n",
       "        vertical-align: top;\n",
       "    }\n",
       "\n",
       "    .dataframe thead th {\n",
       "        text-align: right;\n",
       "    }\n",
       "</style>\n",
       "<table border=\"1\" class=\"dataframe\">\n",
       "  <thead>\n",
       "    <tr style=\"text-align: right;\">\n",
       "      <th></th>\n",
       "      <th>port_1_p(bar)</th>\n",
       "      <th>port_2_p(bar)</th>\n",
       "      <th>port_3_p(bar)</th>\n",
       "      <th>port_4_p(bar)</th>\n",
       "      <th>support_p(bar)</th>\n",
       "      <th>tank_p(bar)</th>\n",
       "      <th>temp(c)</th>\n",
       "      <th>time(hour)</th>\n",
       "    </tr>\n",
       "  </thead>\n",
       "  <tbody>\n",
       "    <tr>\n",
       "      <th>119995</th>\n",
       "      <td>13.04</td>\n",
       "      <td>0.61</td>\n",
       "      <td>0.79</td>\n",
       "      <td>20.17</td>\n",
       "      <td>39.56</td>\n",
       "      <td>0.66</td>\n",
       "      <td>48.00</td>\n",
       "      <td>0.333319</td>\n",
       "    </tr>\n",
       "    <tr>\n",
       "      <th>119996</th>\n",
       "      <td>11.99</td>\n",
       "      <td>0.57</td>\n",
       "      <td>0.74</td>\n",
       "      <td>20.50</td>\n",
       "      <td>39.56</td>\n",
       "      <td>0.63</td>\n",
       "      <td>48.00</td>\n",
       "      <td>0.333322</td>\n",
       "    </tr>\n",
       "    <tr>\n",
       "      <th>119997</th>\n",
       "      <td>10.89</td>\n",
       "      <td>0.55</td>\n",
       "      <td>0.77</td>\n",
       "      <td>20.71</td>\n",
       "      <td>39.18</td>\n",
       "      <td>0.65</td>\n",
       "      <td>48.00</td>\n",
       "      <td>0.333325</td>\n",
       "    </tr>\n",
       "    <tr>\n",
       "      <th>119998</th>\n",
       "      <td>9.86</td>\n",
       "      <td>0.62</td>\n",
       "      <td>0.82</td>\n",
       "      <td>20.94</td>\n",
       "      <td>39.10</td>\n",
       "      <td>0.71</td>\n",
       "      <td>48.00</td>\n",
       "      <td>0.333328</td>\n",
       "    </tr>\n",
       "    <tr>\n",
       "      <th>119999</th>\n",
       "      <td>8.73</td>\n",
       "      <td>0.67</td>\n",
       "      <td>0.83</td>\n",
       "      <td>21.48</td>\n",
       "      <td>39.26</td>\n",
       "      <td>0.72</td>\n",
       "      <td>48.00</td>\n",
       "      <td>0.333331</td>\n",
       "    </tr>\n",
       "  </tbody>\n",
       "</table>\n",
       "</div>"
      ]
     },
     "execution_count": 12,
     "metadata": {},
     "output_type": "execute_result"
    }
   ],
   "execution_count": 12
  },
  {
   "metadata": {
    "ExecuteTime": {
     "end_time": "2024-04-25T11:34:59.427935Z",
     "start_time": "2024-04-25T11:34:58.230829Z"
    }
   },
   "cell_type": "code",
   "source": "result_df.to_csv('d:\\\\joystick\\\\test.csv', float_format='%.3f')",
   "id": "9fb08003d0c1f3c0",
   "outputs": [],
   "execution_count": 23
  },
  {
   "metadata": {
    "ExecuteTime": {
     "end_time": "2024-04-26T08:35:50.604952Z",
     "start_time": "2024-04-26T08:35:50.560435Z"
    }
   },
   "cell_type": "code",
   "source": "result_df.to_parquet('d:\\\\joystick\\\\test.parquet', engine='pyarrow')",
   "id": "d4f279400ff9d572",
   "outputs": [],
   "execution_count": 48
  }
 ],
 "metadata": {
  "kernelspec": {
   "display_name": "Python 3",
   "language": "python",
   "name": "python3"
  },
  "language_info": {
   "codemirror_mode": {
    "name": "ipython",
    "version": 2
   },
   "file_extension": ".py",
   "mimetype": "text/x-python",
   "name": "python",
   "nbconvert_exporter": "python",
   "pygments_lexer": "ipython2",
   "version": "2.7.6"
  }
 },
 "nbformat": 4,
 "nbformat_minor": 5
}
