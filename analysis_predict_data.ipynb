{
 "cells": [
  {
   "cell_type": "code",
   "id": "initial_id",
   "metadata": {
    "collapsed": true,
    "ExecuteTime": {
     "end_time": "2024-05-27T01:33:54.205694Z",
     "start_time": "2024-05-27T01:33:51.241578Z"
    }
   },
   "source": [
    "import pandas as pd\n",
    "from sklearn.metrics import r2_score\n",
    "from sklearn.metrics import mean_absolute_percentage_error as mape"
   ],
   "outputs": [],
   "execution_count": 1
  },
  {
   "metadata": {
    "ExecuteTime": {
     "end_time": "2024-05-27T01:33:55.475105Z",
     "start_time": "2024-05-27T01:33:55.430107Z"
    }
   },
   "cell_type": "code",
   "source": [
    "result_1 = pd.read_csv('logs/test_est_pressure/version_1/metrics.csv')\n",
    "result_2 = pd.read_csv('logs/test_est_pressure/version_2/metrics.csv')\n",
    "result_3 = pd.read_csv('logs/test_est_pressure/version_3/metrics.csv')\n",
    "result_4 = pd.read_csv('logs/test_est_pressure/version_4/metrics.csv')"
   ],
   "id": "a013a4a0858ef4aa",
   "outputs": [],
   "execution_count": 2
  },
  {
   "metadata": {
    "ExecuteTime": {
     "end_time": "2024-05-27T01:33:56.854293Z",
     "start_time": "2024-05-27T01:33:56.840775Z"
    }
   },
   "cell_type": "code",
   "source": [
    "r2_result = []\n",
    "\n",
    "for result in [result_1, result_2, result_3, result_4]:\n",
    "    r2_result.append(r2_score(result['pressure_gt'], result['pressure_pred']))\n",
    "\n",
    "r2_result"
   ],
   "id": "7c27b833ffc2b539",
   "outputs": [
    {
     "data": {
      "text/plain": [
       "[0.8868886180735317,\n",
       " 0.9225054994705651,\n",
       " 0.9475028642026251,\n",
       " 0.6363510883989161]"
      ]
     },
     "execution_count": 3,
     "metadata": {},
     "output_type": "execute_result"
    }
   ],
   "execution_count": 3
  },
  {
   "metadata": {
    "ExecuteTime": {
     "end_time": "2024-05-27T01:33:58.503150Z",
     "start_time": "2024-05-27T01:33:58.489638Z"
    }
   },
   "cell_type": "code",
   "source": [
    "mape_result = []\n",
    "\n",
    "for result in [result_1, result_2, result_3, result_4]:\n",
    "    mape_result.append(mape(result['pressure_gt'], result['pressure_pred'])*100)\n",
    "\n",
    "mape_result"
   ],
   "id": "edfe3a584c0d72a7",
   "outputs": [
    {
     "data": {
      "text/plain": [
       "[1.610393745680726, 2.538468714227687, 1.5160035920589323, 0.660875716592721]"
      ]
     },
     "execution_count": 4,
     "metadata": {},
     "output_type": "execute_result"
    }
   ],
   "execution_count": 4
  }
 ],
 "metadata": {
  "kernelspec": {
   "display_name": "Python 3",
   "language": "python",
   "name": "python3"
  },
  "language_info": {
   "codemirror_mode": {
    "name": "ipython",
    "version": 2
   },
   "file_extension": ".py",
   "mimetype": "text/x-python",
   "name": "python",
   "nbconvert_exporter": "python",
   "pygments_lexer": "ipython2",
   "version": "2.7.6"
  }
 },
 "nbformat": 4,
 "nbformat_minor": 5
}
