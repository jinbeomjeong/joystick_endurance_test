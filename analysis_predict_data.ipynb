{
 "cells": [
  {
   "cell_type": "code",
   "id": "initial_id",
   "metadata": {
    "collapsed": true,
    "ExecuteTime": {
     "end_time": "2024-05-24T09:45:56.532868Z",
     "start_time": "2024-05-24T09:45:56.518870Z"
    }
   },
   "source": "import os, pickle",
   "outputs": [],
   "execution_count": 1
  },
  {
   "metadata": {
    "ExecuteTime": {
     "end_time": "2024-05-24T09:45:59.162805Z",
     "start_time": "2024-05-24T09:45:58.991617Z"
    }
   },
   "cell_type": "code",
   "source": [
    "with open(file='result_peak_data.pkl', mode='rb') as f:\n",
    "    peak_data_dict = pickle.load(f)"
   ],
   "id": "fb7be19419f36788",
   "outputs": [],
   "execution_count": 2
  },
  {
   "metadata": {
    "ExecuteTime": {
     "end_time": "2024-05-24T09:46:34.775173Z",
     "start_time": "2024-05-24T09:46:34.753168Z"
    }
   },
   "cell_type": "code",
   "source": [
    "raw_data_5 = peak_data_dict['raw_data_5']\n",
    "raw_data_5"
   ],
   "id": "1f00a546ee6a951e",
   "outputs": [
    {
     "data": {
      "text/plain": [
       "         time_p1(hour)  port_1_p(bar)  time_p2(hour)  port_2_p(bar)  \\\n",
       "0             0.000764      23.219999       0.000669      22.450001   \n",
       "1             0.001103      23.010000       0.001039      22.680000   \n",
       "2             0.001419      22.879999       0.001358      22.650000   \n",
       "3             0.001731      23.000000       0.001669      22.690001   \n",
       "4             0.002036      23.090000       0.001972      22.799999   \n",
       "...                ...            ...            ...            ...   \n",
       "3917039            NaN            NaN            NaN            NaN   \n",
       "3917040            NaN            NaN            NaN            NaN   \n",
       "3917041            NaN            NaN            NaN            NaN   \n",
       "3917042            NaN            NaN            NaN            NaN   \n",
       "3917043            NaN            NaN            NaN            NaN   \n",
       "\n",
       "         time_p3(hour)  port_3_p(bar)  time_p4(hour)  port_4_p(bar)  \n",
       "0             0.000564      22.160000       0.000867      22.290001  \n",
       "1             0.000944      22.270000       0.001189      22.290001  \n",
       "2             0.001269      22.440001       0.001503      22.280001  \n",
       "3             0.001583      22.450001       0.001811      22.389999  \n",
       "4             0.001886      22.400000       0.002117      22.370001  \n",
       "...                ...            ...            ...            ...  \n",
       "3917039            NaN            NaN    1387.576416      20.860001  \n",
       "3917040            NaN            NaN    1387.576660      20.900000  \n",
       "3917041            NaN            NaN    1387.577026      20.940001  \n",
       "3917042            NaN            NaN    1387.577271      20.959999  \n",
       "3917043            NaN            NaN    1387.577515      20.920000  \n",
       "\n",
       "[3917044 rows x 8 columns]"
      ],
      "text/html": [
       "<div>\n",
       "<style scoped>\n",
       "    .dataframe tbody tr th:only-of-type {\n",
       "        vertical-align: middle;\n",
       "    }\n",
       "\n",
       "    .dataframe tbody tr th {\n",
       "        vertical-align: top;\n",
       "    }\n",
       "\n",
       "    .dataframe thead th {\n",
       "        text-align: right;\n",
       "    }\n",
       "</style>\n",
       "<table border=\"1\" class=\"dataframe\">\n",
       "  <thead>\n",
       "    <tr style=\"text-align: right;\">\n",
       "      <th></th>\n",
       "      <th>time_p1(hour)</th>\n",
       "      <th>port_1_p(bar)</th>\n",
       "      <th>time_p2(hour)</th>\n",
       "      <th>port_2_p(bar)</th>\n",
       "      <th>time_p3(hour)</th>\n",
       "      <th>port_3_p(bar)</th>\n",
       "      <th>time_p4(hour)</th>\n",
       "      <th>port_4_p(bar)</th>\n",
       "    </tr>\n",
       "  </thead>\n",
       "  <tbody>\n",
       "    <tr>\n",
       "      <th>0</th>\n",
       "      <td>0.000764</td>\n",
       "      <td>23.219999</td>\n",
       "      <td>0.000669</td>\n",
       "      <td>22.450001</td>\n",
       "      <td>0.000564</td>\n",
       "      <td>22.160000</td>\n",
       "      <td>0.000867</td>\n",
       "      <td>22.290001</td>\n",
       "    </tr>\n",
       "    <tr>\n",
       "      <th>1</th>\n",
       "      <td>0.001103</td>\n",
       "      <td>23.010000</td>\n",
       "      <td>0.001039</td>\n",
       "      <td>22.680000</td>\n",
       "      <td>0.000944</td>\n",
       "      <td>22.270000</td>\n",
       "      <td>0.001189</td>\n",
       "      <td>22.290001</td>\n",
       "    </tr>\n",
       "    <tr>\n",
       "      <th>2</th>\n",
       "      <td>0.001419</td>\n",
       "      <td>22.879999</td>\n",
       "      <td>0.001358</td>\n",
       "      <td>22.650000</td>\n",
       "      <td>0.001269</td>\n",
       "      <td>22.440001</td>\n",
       "      <td>0.001503</td>\n",
       "      <td>22.280001</td>\n",
       "    </tr>\n",
       "    <tr>\n",
       "      <th>3</th>\n",
       "      <td>0.001731</td>\n",
       "      <td>23.000000</td>\n",
       "      <td>0.001669</td>\n",
       "      <td>22.690001</td>\n",
       "      <td>0.001583</td>\n",
       "      <td>22.450001</td>\n",
       "      <td>0.001811</td>\n",
       "      <td>22.389999</td>\n",
       "    </tr>\n",
       "    <tr>\n",
       "      <th>4</th>\n",
       "      <td>0.002036</td>\n",
       "      <td>23.090000</td>\n",
       "      <td>0.001972</td>\n",
       "      <td>22.799999</td>\n",
       "      <td>0.001886</td>\n",
       "      <td>22.400000</td>\n",
       "      <td>0.002117</td>\n",
       "      <td>22.370001</td>\n",
       "    </tr>\n",
       "    <tr>\n",
       "      <th>...</th>\n",
       "      <td>...</td>\n",
       "      <td>...</td>\n",
       "      <td>...</td>\n",
       "      <td>...</td>\n",
       "      <td>...</td>\n",
       "      <td>...</td>\n",
       "      <td>...</td>\n",
       "      <td>...</td>\n",
       "    </tr>\n",
       "    <tr>\n",
       "      <th>3917039</th>\n",
       "      <td>NaN</td>\n",
       "      <td>NaN</td>\n",
       "      <td>NaN</td>\n",
       "      <td>NaN</td>\n",
       "      <td>NaN</td>\n",
       "      <td>NaN</td>\n",
       "      <td>1387.576416</td>\n",
       "      <td>20.860001</td>\n",
       "    </tr>\n",
       "    <tr>\n",
       "      <th>3917040</th>\n",
       "      <td>NaN</td>\n",
       "      <td>NaN</td>\n",
       "      <td>NaN</td>\n",
       "      <td>NaN</td>\n",
       "      <td>NaN</td>\n",
       "      <td>NaN</td>\n",
       "      <td>1387.576660</td>\n",
       "      <td>20.900000</td>\n",
       "    </tr>\n",
       "    <tr>\n",
       "      <th>3917041</th>\n",
       "      <td>NaN</td>\n",
       "      <td>NaN</td>\n",
       "      <td>NaN</td>\n",
       "      <td>NaN</td>\n",
       "      <td>NaN</td>\n",
       "      <td>NaN</td>\n",
       "      <td>1387.577026</td>\n",
       "      <td>20.940001</td>\n",
       "    </tr>\n",
       "    <tr>\n",
       "      <th>3917042</th>\n",
       "      <td>NaN</td>\n",
       "      <td>NaN</td>\n",
       "      <td>NaN</td>\n",
       "      <td>NaN</td>\n",
       "      <td>NaN</td>\n",
       "      <td>NaN</td>\n",
       "      <td>1387.577271</td>\n",
       "      <td>20.959999</td>\n",
       "    </tr>\n",
       "    <tr>\n",
       "      <th>3917043</th>\n",
       "      <td>NaN</td>\n",
       "      <td>NaN</td>\n",
       "      <td>NaN</td>\n",
       "      <td>NaN</td>\n",
       "      <td>NaN</td>\n",
       "      <td>NaN</td>\n",
       "      <td>1387.577515</td>\n",
       "      <td>20.920000</td>\n",
       "    </tr>\n",
       "  </tbody>\n",
       "</table>\n",
       "<p>3917044 rows × 8 columns</p>\n",
       "</div>"
      ]
     },
     "execution_count": 4,
     "metadata": {},
     "output_type": "execute_result"
    }
   ],
   "execution_count": 4
  },
  {
   "metadata": {
    "ExecuteTime": {
     "end_time": "2024-05-24T09:49:51.264803Z",
     "start_time": "2024-05-24T09:49:51.251799Z"
    }
   },
   "cell_type": "code",
   "source": "print(raw_data_5.shape[0]-67200)",
   "id": "93b114f350a8cd84",
   "outputs": [
    {
     "name": "stdout",
     "output_type": "stream",
     "text": [
      "3849844\n"
     ]
    }
   ],
   "execution_count": 6
  }
 ],
 "metadata": {
  "kernelspec": {
   "display_name": "Python 3",
   "language": "python",
   "name": "python3"
  },
  "language_info": {
   "codemirror_mode": {
    "name": "ipython",
    "version": 2
   },
   "file_extension": ".py",
   "mimetype": "text/x-python",
   "name": "python",
   "nbconvert_exporter": "python",
   "pygments_lexer": "ipython2",
   "version": "2.7.6"
  }
 },
 "nbformat": 4,
 "nbformat_minor": 5
}
