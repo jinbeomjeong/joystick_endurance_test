{
 "cells": [
  {
   "cell_type": "code",
   "id": "initial_id",
   "metadata": {
    "collapsed": true,
    "ExecuteTime": {
     "end_time": "2024-05-26T05:25:14.548135Z",
     "start_time": "2024-05-26T05:25:07.239915Z"
    }
   },
   "source": [
    "import torch\n",
    "from utils.joystick_pressure_model import JoystickPressureModel"
   ],
   "outputs": [],
   "execution_count": 1
  },
  {
   "metadata": {
    "ExecuteTime": {
     "end_time": "2024-05-26T05:25:15.708876Z",
     "start_time": "2024-05-26T05:25:15.695864Z"
    }
   },
   "cell_type": "code",
   "source": "seq_len = 100",
   "id": "6a7fa93f2d912992",
   "outputs": [],
   "execution_count": 2
  },
  {
   "metadata": {
    "ExecuteTime": {
     "end_time": "2024-05-26T05:25:28.512727Z",
     "start_time": "2024-05-26T05:25:16.745570Z"
    }
   },
   "cell_type": "code",
   "source": "model = JoystickPressureModel.load_from_checkpoint(checkpoint_path=\"logs/create_est_pressure/version_1/checkpoints/epoch=0-step=6306.ckpt\", hidden_size=1024)",
   "id": "9fdcfbc7c211f943",
   "outputs": [
    {
     "name": "stderr",
     "output_type": "stream",
     "text": [
      "GPU available: True (cuda), used: True\n",
      "TPU available: False, using: 0 TPU cores\n",
      "IPU available: False, using: 0 IPUs\n",
      "HPU available: False, using: 0 HPUs\n"
     ]
    }
   ],
   "execution_count": 3
  },
  {
   "metadata": {
    "ExecuteTime": {
     "end_time": "2024-05-26T05:26:48.698174Z",
     "start_time": "2024-05-26T05:26:48.483010Z"
    }
   },
   "cell_type": "code",
   "source": "model.to_onnx('model.onnx', input_sample=torch.randn(1, seq_len), export_params=True)",
   "id": "28dc240845464b57",
   "outputs": [],
   "execution_count": 7
  }
 ],
 "metadata": {
  "kernelspec": {
   "display_name": "Python 3",
   "language": "python",
   "name": "python3"
  },
  "language_info": {
   "codemirror_mode": {
    "name": "ipython",
    "version": 2
   },
   "file_extension": ".py",
   "mimetype": "text/x-python",
   "name": "python",
   "nbconvert_exporter": "python",
   "pygments_lexer": "ipython2",
   "version": "2.7.6"
  }
 },
 "nbformat": 4,
 "nbformat_minor": 5
}
